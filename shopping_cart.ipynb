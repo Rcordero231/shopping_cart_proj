{
 "cells": [
  {
   "cell_type": "code",
   "execution_count": 4,
   "metadata": {},
   "outputs": [],
   "source": [
    "def shopping():\n",
    "    # empty list for shopping cart\n",
    "    cart = []\n",
    "    while True:\n",
    "        # Welcom on startup plus initial choice setup\n",
    "        print('Welcome to Buy Things Inc.!!! We value you choosing us for all your shopping needs!!')\n",
    "        choice = input(\"Enter the correct number for the action you would like to take: (1)Shopping (2)Remove From Cart (3)View Cart (4)Checkout (5)Close Program\")\n",
    "        # Make them stick to the given choices\n",
    "        while choice not in {'1', '2', '3', '4'}:\n",
    "            choice = input('Invalid options! Please enter the correct number for the action you would like to take: (1)Shopping (2)Remove From Cart (3)Checkout (4)Close Program')\n",
    "        # Allow them to close the program first\n",
    "        if choice == '4':\n",
    "            print('Thank you for choosing Buy Things inc. Goodbye!')\n",
    "            break\n",
    "\n",
    "        # Allow them to add to the list of \n",
    "        elif choice == '1':\n",
    "            print('You have selected (1)Shopping')\n",
    "            shop = input('Please enter the name of the item you would like to purchase')\n",
    "            # Append to list\n",
    "            # Allow them to add price to item\n",
    "            # Show confirmationt that item is added to card\n",
    "            \n",
    "\n",
    "        # Allow them to view the cart\n",
    "            # Show list in top down format\n",
    "\n",
    "        # Allow to remove from list\n",
    "            #\n",
    "            #\n",
    "        # Allow them to checkout and close program\n",
    "            # Print reciept\n",
    "            #\n",
    "            #"
   ]
  },
  {
   "cell_type": "code",
   "execution_count": 5,
   "metadata": {},
   "outputs": [
    {
     "name": "stdout",
     "output_type": "stream",
     "text": [
      "Welcome to Buy Things Inc.!!! We value you choosing us for all your shopping needs!!\n",
      "Thank you for choosing Buy Things inc. Goodbye!\n"
     ]
    }
   ],
   "source": [
    "shopping()"
   ]
  }
 ],
 "metadata": {
  "kernelspec": {
   "display_name": "Python 3",
   "language": "python",
   "name": "python3"
  },
  "language_info": {
   "codemirror_mode": {
    "name": "ipython",
    "version": 3
   },
   "file_extension": ".py",
   "mimetype": "text/x-python",
   "name": "python",
   "nbconvert_exporter": "python",
   "pygments_lexer": "ipython3",
   "version": "3.12.0"
  }
 },
 "nbformat": 4,
 "nbformat_minor": 2
}
