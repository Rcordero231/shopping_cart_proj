{
 "cells": [
  {
   "cell_type": "code",
   "execution_count": 126,
   "metadata": {},
   "outputs": [],
   "source": [
    "def shopping():\n",
    "    # empty list for shopping cart\n",
    "    cart = []\n",
    "    prices = []\n",
    "    total = 0\n",
    "    print('Welcome to Buy Things Inc.!!! We value you choosing us for all your shopping needs!!')\n",
    "    while True:\n",
    "        # Welcom on startup plus initial choice setup\n",
    "        choice = input(\"Enter the correct number for the action you would like to take: (1)Shopping | (2)View Cart | (3)Remove From Cart | (4)Checkout | (5)Close Program: \")\n",
    "        # Make them stick to the given choices\n",
    "        while choice not in {'1', '2', '3', '4', '5'}:\n",
    "            choice = input('Invalid options! Please enter the correct number for the action you would like to take: (1)Shopping | (2)View Cart | (3)Remove From Cart | (4)Checkout | (5)Close Program: ')\n",
    "        # Allow them to close the program first\n",
    "        if choice == '5':\n",
    "            print('Thank you for choosing Buy Things inc. Goodbye!')\n",
    "            break\n",
    "\n",
    "        # Allow them to add to the list of \n",
    "        elif choice == '1':\n",
    "            print('You have selected (1)Shopping')\n",
    "            items = input('Please enter the name of the item you would like to purchase or enter \"BACK\" to return to menu: ').lower()\n",
    "            if items == 'back':\n",
    "                continue\n",
    "            # Append to list\n",
    "            else:\n",
    "                cart.append(items)\n",
    "            # Allow them to add price to item\n",
    "                amount = float(input(f'How much does {items} cost?: '))\n",
    "                prices.append(amount)\n",
    "            # Show confirmationt that item is added to card\n",
    "            print(f'You have added {items} {amount} to your cart')\n",
    "\n",
    "        # Allow them to view the cart\n",
    "        elif choice == '2':\n",
    "            print(\"------YOUR CART------\")\n",
    "            # Show list in top down format\n",
    "            for c, p in zip(cart, prices):\n",
    "                print(f\"-{c} ${p}--\")\n",
    "            continue\n",
    "\n",
    "        # Allow to remove from list\n",
    "        elif choice == '3':\n",
    "            print('You have chosen to remove an item from cart!!')\n",
    "            item_del = input('Please enter the name of the item you wish to remove: ')\n",
    "            for i in range(len(cart)):\n",
    "                if len(cart) > i:\n",
    "                    c, p = (cart[i], prices[i])\n",
    "                    if c == item_del:\n",
    "                        cart.pop(i)\n",
    "                        prices.pop(i)\n",
    "            print(f'You have removed the item {item_del} from your cart')\n",
    "            continue\n",
    "\n",
    "        # Allow them to checkout and close program\n",
    "        elif choice == '4':\n",
    "            # Print reciept\n",
    "            print('------YOUR RECIEPT------')\n",
    "            for c, p in zip(cart, prices):\n",
    "                print(f\"-{c} ${p}--\")\n",
    "            for price in prices:\n",
    "                total += price\n",
    "            print(f'-YOUR TOTAL: ${total}')\n",
    "            break\n"
   ]
  },
  {
   "cell_type": "code",
   "execution_count": 125,
   "metadata": {},
   "outputs": [
    {
     "name": "stdout",
     "output_type": "stream",
     "text": [
      "Welcome to Buy Things Inc.!!! We value you choosing us for all your shopping needs!!\n",
      "You have selected (1)Shopping\n",
      "You have added carrot 12.0 to your cart\n",
      "You have selected (1)Shopping\n",
      "You have added bagel 23.0 to your cart\n",
      "You have selected (1)Shopping\n",
      "You have added cake 56.0 to your cart\n",
      "You have selected (1)Shopping\n",
      "You have added patty 70.0 to your cart\n",
      "------YOUR CART------\n",
      "-carrot $12.0--\n",
      "-bagel $23.0--\n",
      "-cake $56.0--\n",
      "-patty $70.0--\n",
      "You have chosen to remove an item from cart!!\n",
      "You have removed the item patty from your cart\n",
      "------YOUR RECIEPT------\n",
      "-carrot $12.0--\n",
      "-bagel $23.0--\n",
      "-cake $56.0--\n",
      "-YOUR TOTAL: $12.0\n",
      "-YOUR TOTAL: $35.0\n",
      "-YOUR TOTAL: $91.0\n",
      "Thank you for choosing Buy Things inc. Goodbye!\n"
     ]
    }
   ],
   "source": [
    "shopping()"
   ]
  }
 ],
 "metadata": {
  "kernelspec": {
   "display_name": "Python 3",
   "language": "python",
   "name": "python3"
  },
  "language_info": {
   "codemirror_mode": {
    "name": "ipython",
    "version": 3
   },
   "file_extension": ".py",
   "mimetype": "text/x-python",
   "name": "python",
   "nbconvert_exporter": "python",
   "pygments_lexer": "ipython3",
   "version": "3.12.0"
  }
 },
 "nbformat": 4,
 "nbformat_minor": 2
}
