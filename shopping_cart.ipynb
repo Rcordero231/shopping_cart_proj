{
 "cells": [
  {
   "cell_type": "code",
   "execution_count": 44,
   "metadata": {},
   "outputs": [],
   "source": [
    "def shopping():\n",
    "    # empty list for shopping cart\n",
    "    cart = []\n",
    "    prices = []\n",
    "    while True:\n",
    "        # Welcom on startup plus initial choice setup\n",
    "        print('Welcome to Buy Things Inc.!!! We value you choosing us for all your shopping needs!!')\n",
    "        choice = input(\"Enter the correct number for the action you would like to take: (1)Shopping (2)View Cart (3)Remove From Cart (4)Checkout (5)Close Program: \")\n",
    "        # Make them stick to the given choices\n",
    "        while choice not in {'1', '2', '3', '4', '5'}:\n",
    "            choice = input('Invalid options! Please enter the correct number for the action you would like to take: (1)Shopping (2)View Cart (3)Remove From Cart (4)Checkout (5)Close Program: ')\n",
    "        # Allow them to close the program first\n",
    "        if choice == '5':\n",
    "            print('Thank you for choosing Buy Things inc. Goodbye!')\n",
    "            break\n",
    "\n",
    "        # Allow them to add to the list of \n",
    "        elif choice == '1':\n",
    "            print('You have selected (1)Shopping')\n",
    "            items = input('Please enter the name of the item you would like to purchase or enter \"BACK\" to return to menu: ').lower()\n",
    "            if items == 'back':\n",
    "                continue\n",
    "            # Append to list\n",
    "            else:\n",
    "                cart.append(items)\n",
    "            # Allow them to add price to item\n",
    "                amount = input(f'How much does {items} cost?: ')\n",
    "                prices.append(amount)\n",
    "            # Show confirmationt that item is added to card\n",
    "            print(f'You have added {items} {amount} to your cart')\n",
    "\n",
    "        # Allow them to view the cart\n",
    "        elif choice == '2':\n",
    "            print(\"------YOUR CART------\")\n",
    "            # Show list in top down format\n",
    "            for car, price in zip(cart, prices):\n",
    "                print(f\"-{car} ${price}--\").title()\n",
    "            continue\n",
    "        # Allow to remove from list\n",
    "            #\n",
    "            #\n",
    "        # Allow them to checkout and close program\n",
    "            # Print reciept\n",
    "            #\n",
    "            #"
   ]
  },
  {
   "cell_type": "code",
   "execution_count": 45,
   "metadata": {},
   "outputs": [
    {
     "name": "stdout",
     "output_type": "stream",
     "text": [
      "Welcome to Buy Things Inc.!!! We value you choosing us for all your shopping needs!!\n",
      "You have selected (1)Shopping\n",
      "You have added carrot 23 to your cart\n",
      "Welcome to Buy Things Inc.!!! We value you choosing us for all your shopping needs!!\n",
      "You have selected (1)Shopping\n",
      "You have added bagel 34 to your cart\n",
      "Welcome to Buy Things Inc.!!! We value you choosing us for all your shopping needs!!\n",
      "You have selected (1)Shopping\n",
      "Welcome to Buy Things Inc.!!! We value you choosing us for all your shopping needs!!\n",
      "------YOUR CART------\n",
      "-carrot $23--\n",
      "-bagel $34--\n",
      "Welcome to Buy Things Inc.!!! We value you choosing us for all your shopping needs!!\n",
      "------YOUR CART------\n",
      "-carrot $23--\n",
      "-bagel $34--\n",
      "Welcome to Buy Things Inc.!!! We value you choosing us for all your shopping needs!!\n",
      "------YOUR CART------\n",
      "-carrot $23--\n",
      "-bagel $34--\n",
      "Welcome to Buy Things Inc.!!! We value you choosing us for all your shopping needs!!\n",
      "------YOUR CART------\n",
      "-carrot $23--\n",
      "-bagel $34--\n",
      "Welcome to Buy Things Inc.!!! We value you choosing us for all your shopping needs!!\n",
      "Thank you for choosing Buy Things inc. Goodbye!\n"
     ]
    }
   ],
   "source": [
    "shopping()"
   ]
  }
 ],
 "metadata": {
  "kernelspec": {
   "display_name": "Python 3",
   "language": "python",
   "name": "python3"
  },
  "language_info": {
   "codemirror_mode": {
    "name": "ipython",
    "version": 3
   },
   "file_extension": ".py",
   "mimetype": "text/x-python",
   "name": "python",
   "nbconvert_exporter": "python",
   "pygments_lexer": "ipython3",
   "version": "3.12.0"
  }
 },
 "nbformat": 4,
 "nbformat_minor": 2
}
