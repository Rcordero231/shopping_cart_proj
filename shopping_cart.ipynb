{
 "cells": [
  {
   "cell_type": "code",
   "execution_count": 118,
   "metadata": {},
   "outputs": [],
   "source": [
    "def shopping():\n",
    "    # empty list for shopping cart\n",
    "    cart = []\n",
    "    prices = []\n",
    "    print('Welcome to Buy Things Inc.!!! We value you choosing us for all your shopping needs!!')\n",
    "    while True:\n",
    "        # Welcom on startup plus initial choice setup\n",
    "        choice = input(\"Enter the correct number for the action you would like to take: (1)Shopping | (2)View Cart | (3)Remove From Cart | (4)Checkout | (5)Close Program: \")\n",
    "        # Make them stick to the given choices\n",
    "        while choice not in {'1', '2', '3', '4', '5'}:\n",
    "            choice = input('Invalid options! Please enter the correct number for the action you would like to take: (1)Shopping | (2)View Cart | (3)Remove From Cart | (4)Checkout | (5)Close Program: ')\n",
    "        # Allow them to close the program first\n",
    "        if choice == '5':\n",
    "            print('Thank you for choosing Buy Things inc. Goodbye!')\n",
    "            break\n",
    "\n",
    "        # Allow them to add to the list of \n",
    "        elif choice == '1':\n",
    "            print('You have selected (1)Shopping')\n",
    "            items = input('Please enter the name of the item you would like to purchase or enter \"BACK\" to return to menu: ').lower()\n",
    "            if items == 'back':\n",
    "                continue\n",
    "            # Append to list\n",
    "            else:\n",
    "                cart.append(items)\n",
    "            # Allow them to add price to item\n",
    "                amount = input(f'How much does {items} cost?: ')\n",
    "                prices.append(amount)\n",
    "            # Show confirmationt that item is added to card\n",
    "            print(f'You have added {items} {amount} to your cart')\n",
    "\n",
    "        # Allow them to view the cart\n",
    "        elif choice == '2':\n",
    "            print(\"------YOUR CART------\")\n",
    "            # Show list in top down format\n",
    "            for c, p in zip(cart, prices):\n",
    "                print(f\"-{c} ${p}--\")\n",
    "            continue\n",
    "        # Allow to remove from list\n",
    "        elif choice == '3':\n",
    "            print('You have chosen to remove an item from cart!!')\n",
    "            item_del = input('Please enter the name of the item you wish to remove: ')\n",
    "            for i in range(len(cart)):\n",
    "                if len(cart) > i:\n",
    "                    c, p = (cart[i], prices[i])\n",
    "                    if c == item_del:\n",
    "                        cart.pop(i)\n",
    "                        prices.pop(i)\n",
    "            print(f'You have removed the item {item_del} from your cart')\n",
    "            continue\n",
    "            #\n",
    "            #\n",
    "        # Allow them to checkout and close program\n",
    "        elif choice == '4':\n",
    "            # Print reciept\n",
    "            pass\n",
    "            #"
   ]
  },
  {
   "cell_type": "code",
   "execution_count": 119,
   "metadata": {},
   "outputs": [
    {
     "name": "stdout",
     "output_type": "stream",
     "text": [
      "Welcome to Buy Things Inc.!!! We value you choosing us for all your shopping needs!!\n",
      "You have selected (1)Shopping\n",
      "You have added asd 23 to your cart\n",
      "You have selected (1)Shopping\n",
      "You have added asdf 12 to your cart\n",
      "You have selected (1)Shopping\n",
      "You have added 23 sad to your cart\n",
      "You have selected (1)Shopping\n",
      "You have added asdf 1342 to your cart\n",
      "------YOUR CART------\n",
      "-asd $23--\n",
      "-asdf $12--\n",
      "-23 $sad--\n",
      "-asdf $1342--\n",
      "You have chosen to remove an item from cart!!\n",
      "You have removed the item asdf from your cart\n",
      "Thank you for choosing Buy Things inc. Goodbye!\n"
     ]
    }
   ],
   "source": [
    "shopping()"
   ]
  }
 ],
 "metadata": {
  "kernelspec": {
   "display_name": "Python 3",
   "language": "python",
   "name": "python3"
  },
  "language_info": {
   "codemirror_mode": {
    "name": "ipython",
    "version": 3
   },
   "file_extension": ".py",
   "mimetype": "text/x-python",
   "name": "python",
   "nbconvert_exporter": "python",
   "pygments_lexer": "ipython3",
   "version": "3.12.0"
  }
 },
 "nbformat": 4,
 "nbformat_minor": 2
}
